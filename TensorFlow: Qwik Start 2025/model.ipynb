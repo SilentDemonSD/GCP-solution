{
 "cells": [
  {
   "cell_type": "code",
   "execution_count": null,
   "id": "5622421e-664f-4735-847d-ab0c90419826",
   "metadata": {},
   "outputs": [],
   "source": [
    "!pip install tensorflow-cpu\n",
    "!pip3 install --upgrade pip\n",
    "!pip install -U pylint --user\n",
    "!pip install -r requirements.txt"
   ]
  },
  {
   "cell_type": "code",
   "execution_count": null,
   "id": "98770eb5-bb12-4461-8c40-ddefd12aad3f",
   "metadata": {
    "tags": []
   },
   "outputs": [],
   "source": [
    "import logging\n",
    "import numpy as np\n",
    "import tensorflow as tf\n",
    "\n",
    "# ---- Google Cloud Logging Setup ----\n",
    "from google.cloud import logging as cloud_logging\n",
    "from google.cloud.logging_v2.handlers import setup_logging\n",
    "from google.cloud.logging.handlers import CloudLoggingHandler\n",
    "\n",
    "# Initialize Cloud Logging client and setup default logging\n",
    "client = cloud_logging.Client()\n",
    "setup_logging(CloudLoggingHandler(client))  # Fix: pass handler explicitly\n",
    "\n",
    "# Optional: Custom cloud logger (you can log with `cloud_logger.info(...)`)\n",
    "cloud_logger = logging.getLogger('cloudLogger')\n",
    "cloud_logger.setLevel(logging.INFO)\n",
    "cloud_logger.info(\"Starting TensorFlow model training...\")"
   ]
  },
  {
   "cell_type": "code",
   "execution_count": null,
   "id": "fd725fec-e9b7-4c86-a555-74262aab835b",
   "metadata": {
    "tags": []
   },
   "outputs": [],
   "source": [
    "# ---- TensorFlow Model Setup ----\n",
    "xs = np.array([-1.0, 0.0, 1.0, 2.0, 3.0, 4.0], dtype=float)\n",
    "ys = np.array([-2.0, 1.0, 4.0, 7.0, 10.0, 13.0], dtype=float)\n",
    "\n",
    "# Use Input() layer to avoid warning\n",
    "model = tf.keras.Sequential([\n",
    "    tf.keras.Input(shape=(1,)),\n",
    "    tf.keras.layers.Dense(units=1)\n",
    "])\n",
    "\n",
    "model.compile(optimizer=tf.keras.optimizers.SGD(),\n",
    "              loss=tf.keras.losses.MeanSquaredError())\n",
    "\n",
    "# Train the model\n",
    "model.fit(xs, ys, epochs=500)\n",
    "\n",
    "# Log completion\n",
    "cloud_logger.info(str(model.predict(np.array([10.0]))))"
   ]
  }
 ],
 "metadata": {
  "environment": {
   "kernel": "conda-base-py",
   "name": "workbench-notebooks.m129",
   "type": "gcloud",
   "uri": "us-docker.pkg.dev/deeplearning-platform-release/gcr.io/workbench-notebooks:m129"
  },
  "kernelspec": {
   "display_name": "Python 3 (ipykernel) (Local) (Local)",
   "language": "python",
   "name": "conda-base-py"
  },
  "language_info": {
   "codemirror_mode": {
    "name": "ipython",
    "version": 3
   },
   "file_extension": ".py",
   "mimetype": "text/x-python",
   "name": "python",
   "nbconvert_exporter": "python",
   "pygments_lexer": "ipython3",
   "version": "3.10.16"
  }
 },
 "nbformat": 4,
 "nbformat_minor": 5
}
